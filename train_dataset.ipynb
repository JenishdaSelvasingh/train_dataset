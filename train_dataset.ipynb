{
  "nbformat": 4,
  "nbformat_minor": 0,
  "metadata": {
    "colab": {
      "provenance": []
    },
    "kernelspec": {
      "name": "python3",
      "display_name": "Python 3"
    },
    "language_info": {
      "name": "python"
    }
  },
  "cells": [
    {
      "cell_type": "markdown",
      "source": [
        "**IMPORTING NECESSORY LIBRARIES**"
      ],
      "metadata": {
        "id": "Ylkw-PYXI8Dx"
      }
    },
    {
      "cell_type": "code",
      "execution_count": 6,
      "metadata": {
        "id": "XtLpPS0JIOgL"
      },
      "outputs": [],
      "source": [
        "import numpy as np\n",
        "import pandas as pd\n",
        "import statistics\n",
        "import matplotlib.pyplot as plt"
      ]
    },
    {
      "cell_type": "markdown",
      "source": [
        "**IMPORTING THE DATASET FROM THE DESKTOP**"
      ],
      "metadata": {
        "id": "Lk0FexgLJR2y"
      }
    },
    {
      "cell_type": "code",
      "source": [
        "train_data = pd.read_csv('train.csv')"
      ],
      "metadata": {
        "id": "1MNkUFvaJZfv"
      },
      "execution_count": 2,
      "outputs": []
    },
    {
      "cell_type": "markdown",
      "source": [
        "**OVERVIEW OF A DATA**"
      ],
      "metadata": {
        "id": "1_wo2K68J7vx"
      }
    },
    {
      "cell_type": "code",
      "source": [
        "# display the number of rows and columns\n",
        "train_data.shape"
      ],
      "metadata": {
        "colab": {
          "base_uri": "https://localhost:8080/"
        },
        "id": "954d60u2KF1Y",
        "outputId": "eca594f2-2366-456a-94bc-f071e22eb839"
      },
      "execution_count": 3,
      "outputs": [
        {
          "output_type": "execute_result",
          "data": {
            "text/plain": [
              "(167, 12)"
            ]
          },
          "metadata": {},
          "execution_count": 3
        }
      ]
    },
    {
      "cell_type": "markdown",
      "source": [
        "**SUMMARY STASTICS FROM THE DATASET**"
      ],
      "metadata": {
        "id": "cYqPj4GNKVmf"
      }
    },
    {
      "cell_type": "code",
      "source": [
        "#MEAN CALCULATION\n",
        "data = pd.read_csv('train.csv')\n",
        "val_mean = data['Age'].mean()\n",
        "print(val_mean)"
      ],
      "metadata": {
        "colab": {
          "base_uri": "https://localhost:8080/"
        },
        "id": "eA1hVai9KbZ9",
        "outputId": "5240d07c-521a-4266-b4bf-55064fa7bd9f"
      },
      "execution_count": 29,
      "outputs": [
        {
          "output_type": "stream",
          "name": "stdout",
          "text": [
            "36.19413173652695\n"
          ]
        }
      ]
    },
    {
      "cell_type": "code",
      "source": [
        "#MEDIAN CALCULATION\n",
        "val_median = data['Fare'].median()\n",
        "print(val_median)"
      ],
      "metadata": {
        "colab": {
          "base_uri": "https://localhost:8080/"
        },
        "id": "JicmjHgMaezH",
        "outputId": "5f2c9a45-39e5-4a35-f44e-a9cbf035c146"
      },
      "execution_count": 26,
      "outputs": [
        {
          "output_type": "stream",
          "name": "stdout",
          "text": [
            "53.1\n"
          ]
        }
      ]
    },
    {
      "cell_type": "code",
      "source": [
        "#MODE CALCULATION\n",
        "val_mode = data['Age'].mode()\n",
        "print(val_mode)"
      ],
      "metadata": {
        "colab": {
          "base_uri": "https://localhost:8080/"
        },
        "id": "MadY-oWJasb6",
        "outputId": "40355c9a-a733-4356-c873-c245321da1e0"
      },
      "execution_count": 28,
      "outputs": [
        {
          "output_type": "stream",
          "name": "stdout",
          "text": [
            "0    36.0\n",
            "Name: Age, dtype: float64\n"
          ]
        }
      ]
    },
    {
      "cell_type": "code",
      "source": [
        "#STANDARD DEVIATION\n",
        "val_std = data['Age'].std()\n",
        "print(val_std)"
      ],
      "metadata": {
        "colab": {
          "base_uri": "https://localhost:8080/"
        },
        "id": "wQ86r6nebOpX",
        "outputId": "b08c5b64-955e-44d7-9182-2c3971f8fc0e"
      },
      "execution_count": 27,
      "outputs": [
        {
          "output_type": "stream",
          "name": "stdout",
          "text": [
            "15.778982255477871\n"
          ]
        }
      ]
    }
  ]
}